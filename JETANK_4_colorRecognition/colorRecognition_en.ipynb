{
 "cells": [
  {
   "cell_type": "markdown",
   "metadata": {},
   "source": [
    "# JETANK ColorRecognition\n",
    "\n",
    "This document is used to obtain the HSV value of a certain pixels in the frame, which can be used for the subsequent color tracking function. \n",
    "\n",
    "The HSV color wheel sometimes appears as a cone or cylinder, but always with these three components: Hue is the color portion of the model, expressed as a number from 0 to 360 degrees(0 to 180 in OpenCV): Red falls between 0 and 60 degrees. Yellow falls between 61 and 120 degrees. Green falls between 121 and 180 degrees. Cyan falls between 181 and 240 degrees.\n",
    "\n",
    "While an RGB color value is specified with: rgb (red, green, blue). Each parameter (red, green, and blue) defines the intensity of the color as an integer between 0 and 255. For example, rgb (0, 0, 255) is rendered as blue, because the blue parameter is set to its highest value (255) and the others are set to 0.\n",
    "\n",
    "Therefore, in the color recognition function, in order to avoid the impact of environmental white balance and light brightness difference, we use the HSV color space to match colors.\n",
    "\n",
    "\n",
    "# Import camera function libraries\n",
    "\n",
    "After running the following code block, wait a while and wait for the camera to initialize. After the initialization is successful, a 300x300-sized real-time video screen will appear below the code block.\n",
    "\n",
    "You can right-click on this screen and click `Create New View for Output`, so that you can place the camera screen in the window again. Even if you browse to other part of the document, you can still watch the camera screen at any time. This method applies to other widgets.\n",
    "\n",
    "The initialization may fail due to running this code block multiple times. The solution is already included in `jetbot.Camera`, you only need to restart the Kernel, but be careful not to use the circle arrow above the tab, chances are the camera will still fail to initialize.\n",
    "\n",
    "It is a recommended method to restart the Kernel:\n",
    "In `File Browser` on the left, right-click on the `*.ipynb` file with a green dot in front (the green origin indicates that the Kernel is running), select `Shut Down Kernel`, and you will find a green dot disappears, then close this tab and double-click the `*.ipynb` file that was closed just now to restart the kernel.\n",
    "\n",
    "Run the following code again, and the camera should be initialized normally."
   ]
  },
  {
   "cell_type": "code",
   "execution_count": 1,
   "metadata": {},
   "outputs": [
    {
     "data": {
      "application/vnd.jupyter.widget-view+json": {
       "model_id": "355b6ba2fc6e48c39f5dadc58fac815f",
       "version_major": 2,
       "version_minor": 0
      },
      "text/plain": [
       "Image(value=b'\\xff\\xd8\\xff\\xe0\\x00\\x10JFIF\\x00\\x01\\x01\\x00\\x00\\x01\\x00\\x01\\x00\\x00\\xff\\xdb\\x00C\\x00\\x02\\x01\\x0…"
      ]
     },
     "metadata": {},
     "output_type": "display_data"
    }
   ],
   "source": [
    "import traitlets\n",
    "import ipywidgets\n",
    "from IPython.display import display\n",
    "from jetbot import Camera, bgr8_to_jpeg\n",
    "\n",
    "camera = Camera.instance(width=300, height=300)\n",
    "\n",
    "image_widget = ipywidgets.Image()  # this width and height doesn't necessarily have to match the camera\n",
    "\n",
    "camera_link = traitlets.dlink((camera, 'value'), (image_widget, 'value'), transform=bgr8_to_jpeg)\n",
    "\n",
    "display(image_widget)"
   ]
  },
  {
   "cell_type": "markdown",
   "metadata": {},
   "source": [
    "# Convert the frame to HSV color space\n",
    "\n",
    "The following code is used to convert the frame into HSV color space, and draw some elements on the frame to facilitate the alignment of the pixel that needs to be sampled.\n",
    "\n",
    "Note that the frame you see will not change after running the following code. Only after the value of `image_widget.value` is changed and the function `camera.observe()` is called can you observe the final effect. The former value is used to display the processed frame, and the latter function is used to call the image processing related methods immediately after the new frame is collected. "
   ]
  },
  {
   "cell_type": "code",
   "execution_count": 2,
   "metadata": {},
   "outputs": [],
   "source": [
    "import cv2\n",
    "\n",
    "# Import the collected frames in this function and process them.\n",
    "def colorSelect(imageInput):\n",
    "    # Convert the imported frame to HSV color space.\n",
    "    hsv = cv2.cvtColor(imageInput, cv2.COLOR_BGR2HSV)\n",
    "    \n",
    "    # Blur effect, to reduce the interference caused by the noise.\n",
    "    hsv = cv2.blur(hsv, (15, 15))\n",
    "    \n",
    "    # Get the HSV parameters of the center pixel. \n",
    "    # Since the size of the screen is 300x300, the position of the intermediate pixel is (150, 150).\n",
    "    hsvValue = hsv[150, 150]\n",
    "    \n",
    "    # Draw a 20x20 rectangle in the middle to aim at the object to be sampled.\n",
    "    cv2.rectangle(imageInput,(140,140),(160,160),(255,255,255),1)\n",
    "    \n",
    "    # Displayed the HSV parameter on the frame.\n",
    "    cv2.putText(imageInput,\"HSV:{}\".format(hsvValue),(80,180), cv2.FONT_HERSHEY_SIMPLEX, 0.5,(255,255,255),1,cv2.LINE_AA)\n",
    "    \n",
    "    # Return the frame.\n",
    "    return imageInput"
   ]
  },
  {
   "cell_type": "markdown",
   "metadata": {},
   "source": [
    "# Process video frames and display\n",
    "\n",
    "After running the following code, you can see that the color of the frame has changed, indicating that the video frame has been successfully processed by the `colorSelect()` function."
   ]
  },
  {
   "cell_type": "code",
   "execution_count": 3,
   "metadata": {},
   "outputs": [],
   "source": [
    "def execute(change):\n",
    "    global image_widget\n",
    "    image = change['new']\n",
    "    image_widget.value = bgr8_to_jpeg(colorSelect(image))\n",
    "    \n",
    "execute({'new': camera.value})\n",
    "camera.unobserve_all()\n",
    "camera.observe(execute, names='value')"
   ]
  },
  {
   "cell_type": "markdown",
   "metadata": {},
   "source": [
    "There will be a small white square in the video screen, use this small square to align the object you want to get the HSV value.\n",
    "After aligning the object, the HSV value under the square will change within a certain range. Record the maximum and minimum values of these three values, for example:\n",
    "colorUpper = [44, 255, 255]\n",
    "ColorLower = [24, 100, 100]\n",
    "\n",
    "## Question: Why do we need this value to change rapidly instead of sampling multiple times to average or take the average of multiple points?\n",
    "Because after blurring, this pixel is actually the result of averaging with surrounding pixels. We need to consider the value jump range of individual pixels in this area, so we can’t collect multiple pixels and then average In this way, the HSV value range of the color in the actual screen will be greatly reduced, and the work efficiency of subsequent color recognition related functions will be affected."
   ]
  },
  {
   "cell_type": "markdown",
   "metadata": {},
   "source": [
    "# Turn off this function processing and stop the camera\n",
    "Run the following code block to turn off the image processing function."
   ]
  },
  {
   "cell_type": "code",
   "execution_count": 4,
   "metadata": {},
   "outputs": [],
   "source": [
    "camera.unobserve(execute, names='value')"
   ]
  },
  {
   "cell_type": "markdown",
   "metadata": {},
   "source": [
    "Again, let's close the camera conneciton properly so that we can use the camera in the later notebook."
   ]
  },
  {
   "cell_type": "code",
   "execution_count": 4,
   "metadata": {},
   "outputs": [],
   "source": [
    "camera.stop()"
   ]
  }
 ],
 "metadata": {
  "kernelspec": {
   "display_name": "Python 3",
   "language": "python",
   "name": "python3"
  },
  "language_info": {
   "codemirror_mode": {
    "name": "ipython",
    "version": 3
   },
   "file_extension": ".py",
   "mimetype": "text/x-python",
   "name": "python",
   "nbconvert_exporter": "python",
   "pygments_lexer": "ipython3",
   "version": "3.6.9"
  }
 },
 "nbformat": 4,
 "nbformat_minor": 4
}
