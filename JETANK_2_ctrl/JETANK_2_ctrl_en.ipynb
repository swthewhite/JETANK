{
 "cells": [
  {
   "cell_type": "markdown",
   "metadata": {},
   "source": [
    "# JETANK Control\n",
    "\n",
    "This document is used to build a JETANK control function, use the buttons on the page to control JETANK. You can also customize the functions for the buttons.\n",
    "\n",
    "\n",
    "### Importing the Camera class\n",
    "\n",
    "Run the following code to open the camera widget. When the screen opens, you can right-click on the screen, select `Create new view for output`, and then drag and drop the screen to a suitable place next to it."
   ]
  },
  {
   "cell_type": "code",
   "execution_count": 1,
   "metadata": {},
   "outputs": [
    {
     "data": {
      "application/vnd.jupyter.widget-view+json": {
       "model_id": "bcad539f87384e7c863195b60e938eca",
       "version_major": 2,
       "version_minor": 0
      },
      "text/plain": [
       "Image(value=b'\\xff\\xd8\\xff\\xe0\\x00\\x10JFIF\\x00\\x01\\x01\\x00\\x00\\x01\\x00\\x01\\x00\\x00\\xff\\xdb\\x00C\\x00\\x02\\x01\\x0…"
      ]
     },
     "metadata": {},
     "output_type": "display_data"
    }
   ],
   "source": [
    "import traitlets\n",
    "import ipywidgets.widgets as widgets\n",
    "from IPython.display import display\n",
    "from jetbot import Camera, bgr8_to_jpeg\n",
    "\n",
    "camera = Camera.instance(width=300, height=300)\n",
    "\n",
    "image = widgets.Image(format='jpeg', width=300, height=300)  # this width and height doesn't necessarily have to match the camera\n",
    "\n",
    "camera_link = traitlets.dlink((camera, 'value'), (image, 'value'), transform=bgr8_to_jpeg)\n",
    "\n",
    "display(image)"
   ]
  },
  {
   "cell_type": "markdown",
   "metadata": {},
   "source": [
    "\n",
    "Next, create some buttons to control the Pan and Titl motion of the camera, and establish related control functions.\n",
    "First import the library used to control the servos, and use 2 global variables to store the horizontal (Pan) and vertical (Tilt) positions of the camera."
   ]
  },
  {
   "cell_type": "code",
   "execution_count": 2,
   "metadata": {},
   "outputs": [
    {
     "name": "stdout",
     "output_type": "stream",
     "text": [
      "Succeeded to open the port\n",
      "Succeeded to change the baudrate\n"
     ]
    }
   ],
   "source": [
    "from SCSCtrl import TTLServo\n",
    "\n",
    "servoPos_1 = 0  # Pan position of the camera.\n",
    "servoPos_5 = 0  # The vertical position of the camera.\n",
    "\n",
    "\n",
    "def limitCtl(maxInput, minInput, rawInput):\n",
    "    if rawInput > maxInput:\n",
    "        limitBuffer = maxInput\n",
    "    elif rawInput < minInput:\n",
    "        limitBuffer = minInput\n",
    "    else:\n",
    "        limitBuffer = rawInput\n",
    "        \n",
    "    return limitBuffer\n",
    "\n",
    "\n",
    "def cameraUp():\n",
    "    global servoPos_5  # Global variables declaration\n",
    "    servoPos_5 = limitCtl(25, -40, servoPos_5-15)\n",
    "    TTLServo.servoAngleCtrl(5, servoPos_5, 1, 150)\n",
    "\n",
    "def cameraDown():\n",
    "    global servoPos_5  # Global variables declaration\n",
    "    servoPos_5 = limitCtl(25, -40, servoPos_5+15)\n",
    "    TTLServo.servoAngleCtrl(5, servoPos_5, 1, 150)\n",
    "\n",
    "# Camera turn right\n",
    "def ptRight():\n",
    "    global servoPos_1\n",
    "    servoPos_1 = limitCtl(80, -80, servoPos_1+15)\n",
    "    TTLServo.servoAngleCtrl(1, servoPos_1, 1, 150)\n",
    "\n",
    "# Camera turn left\n",
    "def ptLeft():\n",
    "    global servoPos_1\n",
    "    servoPos_1 = limitCtl(80, -80, servoPos_1-15)\n",
    "    TTLServo.servoAngleCtrl(1, servoPos_1, 1, 150)"
   ]
  },
  {
   "cell_type": "markdown",
   "metadata": {},
   "source": [
    "Add a Layout for placing buttons."
   ]
  },
  {
   "cell_type": "code",
   "execution_count": 3,
   "metadata": {},
   "outputs": [
    {
     "data": {
      "application/vnd.jupyter.widget-view+json": {
       "model_id": "e842f379c3a94c3a8271ea909da65e2c",
       "version_major": 2,
       "version_minor": 0
      },
      "text/plain": [
       "VBox(children=(Button(button_style='success', description='LookUp', layout=Layout(align_self='center', height=…"
      ]
     },
     "metadata": {},
     "output_type": "display_data"
    }
   ],
   "source": [
    "PT_layout = widgets.Layout(width='100px', height='80px', align_self='center')\n",
    "cameraUp_button = widgets.Button(description='LookUp', button_style='success', layout=PT_layout)\n",
    "cameraDown_button = widgets.Button(description='LookDown', button_style='success', layout=PT_layout)\n",
    "ptRight_button = widgets.Button(description='LookRight', button_style='success', layout=PT_layout)\n",
    "ptLeft_button = widgets.Button(description='LookLeft', button_style='success', layout=PT_layout)\n",
    "\n",
    "subPT_box = widgets.HBox([ptLeft_button, cameraDown_button, ptRight_button], layout=widgets.Layout(align_self='center'))\n",
    "surPT_box = widgets.VBox([cameraUp_button, subPT_box])\n",
    "display(surPT_box)"
   ]
  },
  {
   "cell_type": "code",
   "execution_count": 4,
   "metadata": {},
   "outputs": [],
   "source": [
    "# Bind the button with the function.\n",
    "cameraUp_button.on_click(lambda x: cameraUp())\n",
    "cameraDown_button.on_click(lambda x: cameraDown())\n",
    "ptRight_button.on_click(lambda x: ptRight())\n",
    "ptLeft_button.on_click(lambda x: ptLeft())"
   ]
  },
  {
   "cell_type": "markdown",
   "metadata": {},
   "source": [
    "\n",
    "# Control the robot\n",
    "Create some buttons to control the robot. The following code is from basic_motion."
   ]
  },
  {
   "cell_type": "code",
   "execution_count": 5,
   "metadata": {},
   "outputs": [
    {
     "data": {
      "application/vnd.jupyter.widget-view+json": {
       "model_id": "fa6179bd4c154fd9a52c1fafda328225",
       "version_major": 2,
       "version_minor": 0
      },
      "text/plain": [
       "VBox(children=(Button(description='forward', layout=Layout(align_self='center', height='80px', width='100px'),…"
      ]
     },
     "metadata": {},
     "output_type": "display_data"
    }
   ],
   "source": [
    "from jetbot import Robot\n",
    "import time\n",
    "\n",
    "robot = Robot()\n",
    "\n",
    "# create buttons\n",
    "button_layout = widgets.Layout(width='100px', height='80px', align_self='center')\n",
    "stop_button = widgets.Button(description='stop', button_style='danger', layout=button_layout)\n",
    "forward_button = widgets.Button(description='forward', layout=button_layout)\n",
    "backward_button = widgets.Button(description='backward', layout=button_layout)\n",
    "left_button = widgets.Button(description='left', layout=button_layout)\n",
    "right_button = widgets.Button(description='right', layout=button_layout)\n",
    "\n",
    "# display buttons\n",
    "middle_box = widgets.HBox([left_button, stop_button, right_button], layout=widgets.Layout(align_self='center'))\n",
    "controls_box = widgets.VBox([forward_button, middle_box, backward_button])\n",
    "display(controls_box)\n",
    "\n",
    "def stop(change):\n",
    "    robot.stop()\n",
    "    \n",
    "def step_forward(change):\n",
    "    robot.forward(0.4)\n",
    "#     time.sleep(0.5)\n",
    "#     robot.stop()\n",
    "\n",
    "def step_backward(change):\n",
    "    robot.backward(0.4)\n",
    "#     time.sleep(0.5)\n",
    "#     robot.stop()\n",
    "\n",
    "def step_left(change):\n",
    "    robot.left(0.3)\n",
    "    time.sleep(0.5)\n",
    "    robot.stop()\n",
    "\n",
    "def step_right(change):\n",
    "    robot.right(0.3)\n",
    "    time.sleep(0.5)\n",
    "    robot.stop()\n",
    "    \n",
    "# link buttons to actions\n",
    "stop_button.on_click(stop)\n",
    "forward_button.on_click(step_forward)\n",
    "backward_button.on_click(step_backward)\n",
    "left_button.on_click(step_left)\n",
    "right_button.on_click(step_right)"
   ]
  },
  {
   "cell_type": "markdown",
   "metadata": {},
   "source": [
    "\n",
    "The following code makes the buttons used to control the servos. Three global variables `xPos`, `yPos` and `servoPos_4` are needed to store the position of the end of the robotic arm and the gripper."
   ]
  },
  {
   "cell_type": "code",
   "execution_count": 6,
   "metadata": {},
   "outputs": [
    {
     "data": {
      "application/vnd.jupyter.widget-view+json": {
       "model_id": "dcbc6835e36f4b97ad5576fd343b5375",
       "version_major": 2,
       "version_minor": 0
      },
      "text/plain": [
       "VBox(children=(HBox(children=(Button(button_style='success', description='X+', layout=Layout(align_self='cente…"
      ]
     },
     "metadata": {},
     "output_type": "display_data"
    }
   ],
   "source": [
    "xPos = 100\n",
    "yPos = 0\n",
    "servoPos_4 = 0\n",
    "\n",
    "def xIn():\n",
    "    global xPos\n",
    "    xPos += 15\n",
    "    TTLServo.xyInput(xPos, yPos)\n",
    "\n",
    "def xDe():\n",
    "    global xPos\n",
    "    xPos -= 15\n",
    "    if xPos < 85:\n",
    "        xPos = 85\n",
    "    TTLServo.xyInput(xPos, yPos)\n",
    "\n",
    "def yIn():\n",
    "    global yPos\n",
    "    yPos += 15\n",
    "    TTLServo.xyInput(xPos, yPos)\n",
    "\n",
    "def yDe():\n",
    "    global yPos\n",
    "    yPos -= 15\n",
    "    TTLServo.xyInput(xPos, yPos)\n",
    "\n",
    "def grab():\n",
    "    global servoPos_4\n",
    "    servoPos_4 -= 15\n",
    "    if servoPos_4 < -90:\n",
    "        servoPos_4 = -90\n",
    "    TTLServo.servoAngleCtrl(4, servoPos_4, 1, 150)\n",
    "    \n",
    "def loose():\n",
    "    global servoPos_4\n",
    "    servoPos_4+= 15\n",
    "    if servoPos_4 > -10:\n",
    "        servoPos_4 = -10\n",
    "    TTLServo.servoAngleCtrl(4, servoPos_4, 1, 150)\n",
    "\n",
    "arm_layout = widgets.Layout(width='100px', height='80px', align_self='center')\n",
    "\n",
    "xIn_button = widgets.Button(description='X+', button_style='success', layout=arm_layout)\n",
    "xDe_button = widgets.Button(description='X-', button_style='success', layout=arm_layout)\n",
    "\n",
    "yIn_button = widgets.Button(description='Y+', button_style='success', layout=arm_layout)\n",
    "yDe_button = widgets.Button(description='Y-', button_style='success', layout=arm_layout)\n",
    "\n",
    "grab_button = widgets.Button(description='Grab', layout=arm_layout)\n",
    "loose_button = widgets.Button(description='Loose', layout=arm_layout)\n",
    "\n",
    "line1_box = widgets.HBox([xIn_button, yIn_button])\n",
    "line2_box = widgets.HBox([xDe_button, yDe_button])\n",
    "line3_box = widgets.HBox([grab_button, loose_button])\n",
    "arm_box = widgets.VBox([line1_box, line2_box, line3_box])\n",
    "\n",
    "display(arm_box)"
   ]
  },
  {
   "cell_type": "markdown",
   "metadata": {},
   "source": [
    "\n",
    "Bind the buttons with the functions."
   ]
  },
  {
   "cell_type": "code",
   "execution_count": 7,
   "metadata": {},
   "outputs": [],
   "source": [
    "xIn_button.on_click(lambda x: xIn())\n",
    "xDe_button.on_click(lambda x: xDe())\n",
    "\n",
    "yIn_button.on_click(lambda x: yIn())\n",
    "yDe_button.on_click(lambda x: yDe())\n",
    "\n",
    "grab_button.on_click(lambda x: grab())\n",
    "loose_button.on_click(lambda x: loose())"
   ]
  },
  {
   "cell_type": "markdown",
   "metadata": {},
   "source": [
    "Again, let's close the camera conneciton properly so that we can use the camera in the later notebook."
   ]
  },
  {
   "cell_type": "code",
   "execution_count": 8,
   "metadata": {},
   "outputs": [],
   "source": [
    "camera.stop()"
   ]
  }
 ],
 "metadata": {
  "kernelspec": {
   "display_name": "Python 3",
   "language": "python",
   "name": "python3"
  },
  "language_info": {
   "codemirror_mode": {
    "name": "ipython",
    "version": 3
   },
   "file_extension": ".py",
   "mimetype": "text/x-python",
   "name": "python",
   "nbconvert_exporter": "python",
   "pygments_lexer": "ipython3",
   "version": "3.6.9"
  }
 },
 "nbformat": 4,
 "nbformat_minor": 4
}
